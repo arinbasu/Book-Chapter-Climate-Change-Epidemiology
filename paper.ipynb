{
 "cells": [
  {
   "cell_type": "markdown",
   "metadata": {},
   "source": [
    "## How to write scholarly papers in Jupyter Notebook\n",
    "\n",
    "The idea is to write a scholarly paper in Jupyter notebook. Jupyter notebooks are great for writing free texts, paragraphs, markdown lists, characters, footnotes to particular chunks. You can conduct data analyses, add graphics, move aroundt texts and everything renders nicely in html. You can also convert a notebook to latex for publication, or html using the ``nbconvert`` command. So things work well with this tool. We are going to explore if we can do the following three things:\n",
    "\n",
    "1. Write tables and add figures (trivial)\n",
    "2. Write and maintain citations (this is the main issue)\n",
    "\n",
    "Everything else works well. \n",
    "\n",
    "## How to add tables\n",
    "\n",
    "| Tools    | Description                           |\n",
    "|----------|---------------------------------------|\n",
    "| Authorea | Great tool but totally web based, nah |\n",
    "| Overleaf | Great tool but people for some reason |\n",
    "| Word     | Sucks but people keep using them      |\n",
    "| Markdown | Great tool but still unpopular        |"
   ]
  },
  {
   "cell_type": "markdown",
   "metadata": {},
   "source": [
    "## How to add figures is trivial\n",
    "\n",
    "A hash mark, an opening and closing pair of parentheses, description in between, then a pair of square brackets and the filename and off you go. \n",
    "\n",
    "![Globe](glass.jpg)\n",
    "\n"
   ]
  },
  {
   "cell_type": "markdown",
   "metadata": {},
   "source": [
    "## How to add citations\n",
    "\n",
    "we add \\cite{Sh:1} as an instance of citation and then keep writing. If this can be pulled off, it would be excellent to add a citation. All you need to do is to set up a .bib file and then populate that file. Then add the citation ID using the markdown notation. Then run an R code (or a Python code) to compile the document to latex or markdown.   "
   ]
  }
 ],
 "metadata": {
  "kernelspec": {
   "display_name": "R",
   "language": "R",
   "name": "ir"
  },
  "language_info": {
   "codemirror_mode": "r",
   "file_extension": ".r",
   "mimetype": "text/x-r-source",
   "name": "R",
   "pygments_lexer": "r",
   "version": "3.3.1"
  }
 },
 "nbformat": 4,
 "nbformat_minor": 1
}
